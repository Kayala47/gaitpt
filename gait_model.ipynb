{
 "cells": [
  {
   "cell_type": "markdown",
   "metadata": {
    "collapsed": false,
    "toc": true
   },
   "source": [
    "<h1>Table of Contents<span class=\"tocSkip\"></span></h1>\n",
    "<div class=\"toc\"><ul class=\"toc-item\"><li><span><a href=\"#Define-a-pytorch-Dataset-object-to-contain-the-training-and-testing-data\" data-toc-modified-id=\"Define-a-pytorch-Dataset-object-to-contain-the-training-and-testing-data-1\"><span class=\"toc-item-num\">1&nbsp;&nbsp;</span>Define a pytorch Dataset object to contain the training and testing data</a></span></li><li><span><a href=\"#Define-training-methods-for-the-model\" data-toc-modified-id=\"Define-training-methods-for-the-model-2\"><span class=\"toc-item-num\">2&nbsp;&nbsp;</span>Define training methods for the model</a></span></li><li><span><a href=\"#Define-testing-methods-for-the-model\" data-toc-modified-id=\"Define-testing-methods-for-the-model-3\"><span class=\"toc-item-num\">3&nbsp;&nbsp;</span>Define testing methods for the model</a></span></li><li><span><a href=\"#Define-plotting-method-for-loss\" data-toc-modified-id=\"Define-plotting-method-for-loss-4\"><span class=\"toc-item-num\">4&nbsp;&nbsp;</span>Define plotting method for loss</a></span></li><li><span><a href=\"#Define-Model-Architecture\" data-toc-modified-id=\"Define-Model-Architecture-5\"><span class=\"toc-item-num\">5&nbsp;&nbsp;</span>Define Model Architecture</a></span></li><li><span><a href=\"#Define-Run-function\" data-toc-modified-id=\"Define-Run-function-6\"><span class=\"toc-item-num\">6&nbsp;&nbsp;</span>Define Run function</a></span></li><li><span><a href=\"#Create-Datasets-for-Each-Gait-File\" data-toc-modified-id=\"Create-Datasets-for-Each-Gait-File-7\"><span class=\"toc-item-num\">7&nbsp;&nbsp;</span>Create Datasets for Each Gait File</a></span></li><li><span><a href=\"#Run-and-plot-results\" data-toc-modified-id=\"Run-and-plot-results-8\"><span class=\"toc-item-num\">8&nbsp;&nbsp;</span>Run and plot results</a></span></li></ul></div>"
   ]
  },
  {
   "cell_type": "code",
   "execution_count": null,
   "metadata": {
    "collapsed": false,
    "pycharm": {
     "name": "#%%\n"
    }
   },
   "outputs": [],
   "source": [
    "from math import inf\n",
    "from pathlib import Path\n",
    "import csv\n",
    "\n",
    "from matplotlib import pyplot as plt\n",
    "import numpy as np\n",
    "import pandas as pd\n",
    "\n",
    "from torch import optim\n",
    "from torch.utils.data import DataLoader\n",
    "from torch.utils.data.dataset import Dataset\n",
    "import torch\n",
    "import torch.nn as nn"
   ]
  },
  {
   "cell_type": "markdown",
   "metadata": {
    "collapsed": false,
    "pycharm": {
     "name": "#%% md\n"
    }
   },
   "source": [
    "## Define Constants and Hyperparams"
   ]
  },
  {
   "cell_type": "code",
   "execution_count": null,
   "metadata": {
    "collapsed": false,
    "pycharm": {
     "name": "#%%\n"
    }
   },
   "outputs": [],
   "source": [
    "ANIMATIONS_PATH = Path(\"Animations/\")\n",
    "DATA_PATH = Path(\"Data/\")\n",
    "SANITY_PATH = Path(\"Sanity_Checks/\")\n",
    "MODEL_OUTPUT_PATH = Path(\"Model_Outputs/\")\n",
    "MODEL_PATH = Path(\"Models/\")\n",
    "\n",
    "CSV_HEADER = [\n",
    "\t\"FL A1 DF 1\",\n",
    "\t\"FL A1 DF 2\",\n",
    "\t\"FL A2 DF 1\",\n",
    "\t\"FL A2 DF 2\",\n",
    "\t\"FL A3 DF 1\",\n",
    "\t\"FL A3 DF 2\",\n",
    "\t\"FR A1 DF 1\",\n",
    "\t\"FR A1 DF 2\",\n",
    "\t\"FR A2 DF 1\",\n",
    "\t\"FR A2 DF 2\",\n",
    "\t\"FR A3 DF 1\",\n",
    "\t\"FR A3 DF 2\",\n",
    "\t\"BL A1 DF 1\",\n",
    "\t\"BL A1 DF 2\",\n",
    "\t\"BL A2 DF 1\",\n",
    "\t\"BL A2 DF 2\",\n",
    "\t\"BL A3 DF 1\",\n",
    "\t\"BL A3 DF 2\",\n",
    "\t\"BR A1 DF 1\",\n",
    "\t\"BR A1 DF 2\",\n",
    "\t\"BR A2 DF 1\",\n",
    "\t\"BR A2 DF 2\",\n",
    "\t\"BR A3 DF 1\",\n",
    "\t\"BR A3 DF 2\",\n",
    "\t\"SP A1 DF 1\",\n",
    "\t\"SP A1 DF 2\",\n",
    "\t\"SP A2 DF 1\",\n",
    "\t\"SP A2 DF 2\",\n",
    "]"
   ]
  },
  {
   "cell_type": "markdown",
   "metadata": {
    "collapsed": false
   },
   "source": [
    "## Define a pytorch Dataset object to contain the training and testing data\n",
    "Pytorch handles data shuffling and batch loading, as long as the user provides a \"Dataset\" class. This class is just a wrapper for your data that casts the data into pytorch tensor format and returns slices of the data. In this case, our data is in numpy format, which conveniently pytorch has a method for converting to their native format.\n",
    "\n",
    "The init function takes the path to the csv and creates a dataset out of it. I actually have three different options here. The dataset could be composed such that x is the 'timestamp' of the movement,the previous set of angles, or a tuple of both."
   ]
  },
  {
   "cell_type": "code",
   "execution_count": null,
   "metadata": {
    "collapsed": false
   },
   "outputs": [],
   "source": [
    "\n",
    "\n",
    "class AngleDataset(Dataset):\n",
    "\tdef __init__(self, x, y):\n",
    "\t\tx_dtype = torch.FloatTensor\n",
    "\t\ty_dtype = torch.FloatTensor  # for MSE or L1 Loss\n",
    "\n",
    "\t\tself.length = x.shape[0]\n",
    "\n",
    "\t\tself.x_data = torch.from_numpy(x).type(x_dtype)\n",
    "\t\tself.y_data = torch.from_numpy(y).type(y_dtype)\n",
    "\n",
    "\tdef __getitem__(self, index):\n",
    "\t\treturn self.x_data[index], self.y_data[index]\n",
    "\n",
    "\tdef __len__(self):\n",
    "\t\treturn self.length\n",
    "\n",
    "\n",
    "def create_datasets(csv_path: str, train_perc: float = 0.8, nosplit=False):\n",
    "\tdf = pd.read_csv(csv_path)\n",
    "\tlength = len(df)\n",
    "\ttime = 10\n",
    "\ttimestep = 0.005\n",
    "\n",
    "\t# x_data = np.array([])\n",
    "\t# y_data = np.array([])\n",
    "\tx_data = []\n",
    "\ty_data = []\n",
    "\n",
    "\tsin_test_timepoints = (\n",
    "\t\t\tnp.random.rand(length, 1) * time\n",
    "\t)  # Repeat data generation for test set\n",
    "\tsin_test_timepoints = sin_test_timepoints.ravel()\n",
    "\tsin_iter = iter(sin_test_timepoints)\n",
    "\n",
    "\t# data order = sin, angles, torso, touch_sens\n",
    "\n",
    "\t# if x = curr angles and y = next angles\n",
    "\tfor i in range(len(df)):\n",
    "\n",
    "\t\tx = []\n",
    "\t\ty = []\n",
    "\n",
    "\t\tif i < length - 1:\n",
    "\t\t\tx = np.append(x, df.iloc[i])\n",
    "\t\t\ty = np.append(y, df.iloc[i + 1][:-4])  # only include angles\n",
    "\t\telse:\n",
    "\t\t\t# since it loops anyway\n",
    "\t\t\tx = np.append(x, df.iloc[i])\n",
    "\t\t\ty = np.append(y, df.iloc[0][:-4])\n",
    "\n",
    "\t\tx = np.append([next(sin_iter)], x)\n",
    "\n",
    "\t\tx_data.append(x)\n",
    "\t\ty_data.append(y)\n",
    "\n",
    "\tx_data = np.array(x_data, dtype=np.float64)\n",
    "\ty_data = np.array(y_data, dtype=np.float64)\n",
    "\n",
    "\tif not nosplit:\n",
    "\n",
    "\t\tlast_train_idx = int(len(x_data) * train_perc)\n",
    "\n",
    "\t\ttrain_x = x_data[:last_train_idx]\n",
    "\t\ttrain_y = y_data[:last_train_idx]\n",
    "\t\ttest_x = x_data[last_train_idx:]\n",
    "\t\ttest_y = y_data[last_train_idx:]\n",
    "\n",
    "\t\treturn AngleDataset(x=train_x, y=train_y), AngleDataset(x=test_x, y=test_y)\n",
    "\telse:\n",
    "\t\treturn AngleDataset(x=x_data, y=y_data)"
   ]
  },
  {
   "cell_type": "code",
   "execution_count": null,
   "metadata": {
    "collapsed": false
   },
   "outputs": [],
   "source": [
    "# get averages for each csv\n",
    "\n",
    "def get_avg_range(df_col):\n",
    "\treturn (df_col.min() + df_col.max()) / 2\n",
    "\n",
    "\n",
    "def get_avgs(fp: str):\n",
    "\tdf = pd.read_csv(fp)\n",
    "\n",
    "\treturn df.apply(get_avg_range, axis=0).tolist()  # 0 axis is cols, 1 is rows\n",
    "\n",
    "\n",
    "avgs = {}\n",
    "\n",
    "for file in DATA_PATH.glob(\"*_kinematic.csv\"):\n",
    "\tavgs[file.stem.split(\"_\")[0]] = get_avgs(file)\n",
    "\n",
    "avgs.keys()"
   ]
  },
  {
   "cell_type": "markdown",
   "metadata": {
    "collapsed": false
   },
   "source": [
    "## Define training methods for the model\n",
    "These methods use an initialized model and training data to iteratively perform the forward and backward pass of optimization. Aside from some data reformatting that depends on the input, output, and loss function, these methods will always be the same for any shallow neural network."
   ]
  },
  {
   "cell_type": "code",
   "execution_count": null,
   "metadata": {
    "collapsed": false
   },
   "outputs": [],
   "source": [
    "def train_batch(model, x, y, optimizer, loss_fn):\n",
    "\t# Run forward calculation\n",
    "\ty_predict = model.forward(x)\n",
    "\n",
    "\t# Compute loss.\n",
    "\tloss = loss_fn(y_predict, y)\n",
    "\n",
    "\t# Before the backward pass, use the optimizer object to zero all of the\n",
    "\t# gradients for the variables it will update (which are the learnable weights\n",
    "\t# of the model)\n",
    "\toptimizer.zero_grad()\n",
    "\n",
    "\t# Backward pass: compute gradient of the loss with respect to model\n",
    "\t# parameters\n",
    "\tloss.backward()\n",
    "\n",
    "\t# Calling the step function on an Optimizer makes an update to its\n",
    "\t# parameters\n",
    "\toptimizer.step()\n",
    "\n",
    "\treturn loss.data.item()\n",
    "\n",
    "\n",
    "def train(model, loader, optimizer, loss_fn, epochs=5):\n",
    "\tlosses = list()\n",
    "\n",
    "\tbatch_index = 0\n",
    "\tfor e in range(epochs):\n",
    "\t\tfor x, y in loader:\n",
    "\t\t\tloss = train_batch(\n",
    "\t\t\t\tmodel=model, x=x, y=y, optimizer=optimizer, loss_fn=loss_fn\n",
    "\t\t\t)\n",
    "\t\t\tlosses.append(loss)\n",
    "\n",
    "\t\t\tbatch_index += 1\n",
    "\n",
    "\t\tif e % 50 == 0:\n",
    "\t\t\tpass\n",
    "\t\t#   ic(\"Epoch: \", e+1)\n",
    "\t\t#   ic(\"Batches: \", batch_index)\n",
    "\n",
    "\treturn losses"
   ]
  },
  {
   "cell_type": "markdown",
   "metadata": {
    "collapsed": false
   },
   "source": [
    "## Define testing methods for the model\n",
    "These methods are like training, but we don't need to update the parameters of the model anymore because when we call the test() method, the model has already been trained. Instead, this method just calculates the predicted y values and returns them, AKA the forward pass.\n"
   ]
  },
  {
   "cell_type": "code",
   "execution_count": null,
   "metadata": {
    "collapsed": false
   },
   "outputs": [],
   "source": [
    "def test_batch(model, x, y):\n",
    "\t# run forward calculation\n",
    "\ty_predict = model.forward(x)\n",
    "\n",
    "\treturn y, y_predict\n",
    "\n",
    "\n",
    "def test(model, loader):\n",
    "\ty_vectors = list()\n",
    "\ty_predict_vectors = list()\n",
    "\n",
    "\tbatch_index = 0\n",
    "\tfor x, y in loader:\n",
    "\t\ty, y_predict = test_batch(model=model, x=x, y=y)\n",
    "\n",
    "\t\ty_vectors.append(y.data.numpy())\n",
    "\t\ty_predict_vectors.append(y_predict.data.numpy())\n",
    "\n",
    "\t\tbatch_index += 1\n",
    "\n",
    "\ty_predict_vector = np.concatenate(y_predict_vectors)\n",
    "\n",
    "\treturn y_predict_vector"
   ]
  },
  {
   "cell_type": "markdown",
   "metadata": {
    "collapsed": false
   },
   "source": [
    "## Define plotting method for loss\n",
    "This is a plotting method for looking at the behavior of the loss over training iterations."
   ]
  },
  {
   "cell_type": "code",
   "execution_count": null,
   "metadata": {
    "collapsed": false
   },
   "outputs": [],
   "source": [
    "def plot_loss(losses, title: str, show=True):\n",
    "\tfig = pyplot.gcf()\n",
    "\tfig.set_size_inches(8, 6)\n",
    "\tax = pyplot.axes()\n",
    "\tax.set_xlabel(\"Iteration\")\n",
    "\tax.set_ylabel(\"Loss\")\n",
    "\tx_loss = list(range(len(losses)))\n",
    "\tpyplot.title(title)\n",
    "\n",
    "\tpyplot.plot(x_loss, losses)\n",
    "\n",
    "\tif show:\n",
    "\t\tpyplot.show()\n",
    "\n",
    "\tpyplot.close()"
   ]
  },
  {
   "cell_type": "markdown",
   "metadata": {
    "collapsed": false
   },
   "source": [
    "## Define Model Architecture\n",
    "- 33 inputs = 3 joint angles per leg, 4 legs, 2 DOF per joint. 4 touch sensors. 1 sine timestamp.\n",
    "- 28 outputs = *same as above, except just the joint angles*\n"
   ]
  },
  {
   "cell_type": "code",
   "execution_count": null,
   "metadata": {
    "collapsed": false
   },
   "outputs": [],
   "source": [
    "class GaitModel(nn.Module):\n",
    "\tdef __init__(self, layer_sizes, avgs_key, batch_norm=True, dropout=0):\n",
    "\t\tsuper(GaitModel, self).__init__()\n",
    "\t\tself.avgs = torch.FloatTensor(avgs[avgs_key])\n",
    "\t\thidden_layers = []\n",
    "\n",
    "\t\tfor nl, nlminus1 in zip(layer_sizes[1:-1], layer_sizes):\n",
    "\t\t\tlayers = [nn.Linear(nlminus1, nl), nn.ReLU()]\n",
    "\t\t\tif batch_norm:\n",
    "\t\t\t\tlayers.append(nn.BatchNorm1d(nl))\n",
    "\n",
    "\t\t\tif dropout > 0:\n",
    "\t\t\t\tlayers.append(nn.Dropout(dropout))\n",
    "\n",
    "\t\t\thidden_layers.append(nn.Sequential(*layers))\n",
    "\n",
    "\t\t# The output layer does not include an activation function.\n",
    "\t\t# See: https://pytorch.org/docs/stable/generated/torch.nn.CrossEntropyLoss.html\n",
    "\t\toutput_layer = nn.Linear(layer_sizes[-2], layer_sizes[-1])\n",
    "\n",
    "\t\t# tanh = torch.nn.Tanh()\n",
    "\n",
    "\t\t# Group all layers into the sequential container\n",
    "\t\tall_layers = hidden_layers + [output_layer]\n",
    "\t\tself.layers = nn.Sequential(*all_layers)\n",
    "\n",
    "\tdef forward(self, X):\n",
    "\t\ttmp = np.zeros(X.shape)\n",
    "\t\ttmp[:, 0] = X[:, 0]  # first\n",
    "\t\tX2 = X[:, 1:]\n",
    "\t\tX2 -= self.avgs\n",
    "\n",
    "\t\ttmp[:, 1:] = X2[:, :]\n",
    "\t\tX = torch.FloatTensor(tmp)\n",
    "\n",
    "\t\tX = self.layers(X)\n",
    "\n",
    "\t\twith torch.no_grad():\n",
    "\t\t\ttmp = np.zeros(X.shape)\n",
    "\t\t\tX += self.avgs[4:]\n",
    "\n",
    "\t\treturn X"
   ]
  },
  {
   "cell_type": "markdown",
   "metadata": {
    "collapsed": false
   },
   "source": [
    "## Define Run function"
   ]
  },
  {
   "cell_type": "code",
   "execution_count": null,
   "metadata": {
    "collapsed": false,
    "lines_to_next_cell": 2
   },
   "outputs": [],
   "source": [
    "def run(train_dataset, test_dataset, avgs_key, epochs=4, layer_sizes=[33, 31, 30, 28], batch_norm=True, dropout=0):\n",
    "\t# Batch size is the number of training examples used to calculate each iteration's gradient\n",
    "\tbatch_size_train = 33\n",
    "\n",
    "\tdata_loader_train = DataLoader(\n",
    "\t\tdataset=train_dataset, batch_size=batch_size_train, shuffle=True\n",
    "\t)\n",
    "\tdata_loader_test = DataLoader(\n",
    "\t\tdataset=test_dataset, batch_size=len(test_dataset), shuffle=False\n",
    "\t)\n",
    "\n",
    "\t# Define the hyperparameters\n",
    "\tlearning_rate = 1e-3\n",
    "\n",
    "\tpytorch_model = GaitModel(layer_sizes, avgs_key, batch_norm, dropout)\n",
    "\n",
    "\t# Initialize the optimizer with above parameters\n",
    "\toptimizer = optim.Adam(pytorch_model.parameters(), lr=learning_rate)\n",
    "\n",
    "\t# Define the loss function\n",
    "\tloss_fn = nn.MSELoss()  # mean squared error\n",
    "\n",
    "\t# Train and get the resulting loss per iteration\n",
    "\tloss = train(\n",
    "\t\tmodel=pytorch_model,\n",
    "\t\tloader=data_loader_train,\n",
    "\t\toptimizer=optimizer,\n",
    "\t\tloss_fn=loss_fn,\n",
    "\t\tepochs=epochs,\n",
    "\t)\n",
    "\n",
    "\t# Test and get the resulting predicted y values\n",
    "\ty_predict = test(model=pytorch_model, loader=data_loader_test)\n",
    "\n",
    "\treturn loss, y_predict, pytorch_model"
   ]
  },
  {
   "cell_type": "markdown",
   "metadata": {
    "collapsed": false
   },
   "source": [
    "## Create Datasets for Each Gait File"
   ]
  },
  {
   "cell_type": "code",
   "execution_count": null,
   "metadata": {
    "collapsed": false
   },
   "outputs": [],
   "source": [
    "angles_path = Path(\"Data\")\n",
    "names_and_ds = []\n",
    "\n",
    "for filename in angles_path.glob(\"*_kinematic.csv\"):\n",
    "\tgait_name = filename.stem.split(\"_\")[0]\n",
    "\ttrain_ds, test_ds = create_datasets(filename)\n",
    "\tnames_and_ds.append((gait_name, train_ds, test_ds))\n",
    "\n",
    "print(names_and_ds)"
   ]
  },
  {
   "cell_type": "markdown",
   "metadata": {
    "collapsed": false
   },
   "source": [
    "## Run and plot results"
   ]
  },
  {
   "cell_type": "code",
   "execution_count": null,
   "metadata": {
    "collapsed": false
   },
   "outputs": [],
   "source": [
    "def train_csv_plot(names_and_ds, model_path=MODEL_PATH, csv_path=DATA_PATH, plot=True, dropout=0, batch_norm=True,\n",
    "                   extra_id: str = \"\"):\n",
    "\tfinal_losses = []\n",
    "\n",
    "\tfor name, train_ds, test_ds in names_and_ds:\n",
    "\t\tprint(name)\n",
    "\n",
    "\t\ttrain_ds.x_data.shape\n",
    "\n",
    "\t\tlosses, y_predict, model_to_save = run(\n",
    "\t\t\ttrain_dataset=train_ds, test_dataset=test_ds, avgs_key=name, epochs=400, dropout=dropout,\n",
    "\t\t\tbatch_norm=batch_norm\n",
    "\t\t)\n",
    "\n",
    "\t\t# new /\n",
    "\t\tall_ds = create_datasets(DATA_PATH / f'{name}_kinematic.csv', nosplit=True)\n",
    "\n",
    "\t\tdata_loader_all = DataLoader(\n",
    "\t\t\tdataset=all_ds, batch_size=33, shuffle=False\n",
    "\t\t)\n",
    "\t\ty_predict = test(model_to_save, data_loader_all)\n",
    "\n",
    "\t\tspacer = \"_\" if extra_id != \"\" else \"\"\n",
    "\n",
    "\t\t# / new\n",
    "\t\t# Save the outputs to a csv for quicker comparisons later\n",
    "\t\twith open(csv_path / f'{name}_model{spacer}{extra_id}.csv', \"w\", newline=\"\") as f:\n",
    "\t\t\twriter = csv.writer(\n",
    "\t\t\t\tf,\n",
    "\t\t\t\tquoting=csv.QUOTE_NONE,\n",
    "\t\t\t)\n",
    "\n",
    "\t\t\twriter.writerow(CSV_HEADER)\n",
    "\t\t\tfor row in y_predict:\n",
    "\t\t\t\twriter.writerow(row)\n",
    "\n",
    "\t\ttorch.save(model_to_save, model_path / f\"{name}_model{spacer}{extra_id}.pt\")\n",
    "\n",
    "\t\tfinal_loss = sum(losses[-100:]) / 100\n",
    "\t\tfinal_losses.append(final_loss)\n",
    "\n",
    "\t\tprint(f\"Final loss for {name}: {final_loss}\")\n",
    "\t\tif plot:\n",
    "\t\t\tplot_loss(losses, name)\n",
    "\n",
    "\treturn sum(final_losses) / len(final_losses)\n",
    "\n",
    "\n",
    "train_csv_plot(names_and_ds)"
   ]
  },
  {
   "cell_type": "markdown",
   "metadata": {
    "collapsed": false
   },
   "source": [
    "## Sanity Check Data By Plotting\n",
    "Also saving to files under Sanity_Checks"
   ]
  },
  {
   "cell_type": "code",
   "execution_count": null,
   "metadata": {
    "collapsed": false
   },
   "outputs": [],
   "source": [
    "\n",
    "data_files = sorted([x for x in DATA_PATH.glob(\"*_kinematic.csv\") if x.is_file()])\n",
    "model_outputs = sorted([x for x in DATA_PATH.glob(\"*_model.csv\") if x.is_file()])"
   ]
  },
  {
   "cell_type": "code",
   "execution_count": null,
   "metadata": {
    "collapsed": false
   },
   "outputs": [],
   "source": [
    "\n",
    "for actual, pred in zip(data_files, model_outputs):\n",
    "\tdfa = pd.read_csv(actual)\n",
    "\tdfp = pd.read_csv(pred)\n",
    "\n",
    "\tplot_actual = dfa.plot(subplots=True, layout=(6, 6), figsize=(16, 16), title=f\"{actual.stem}: actual\")\n",
    "\tplot_predicted = dfp.plot(subplots=True, layout=(6, 6), figsize=(16, 16), title=f\"{pred.stem}: predicted by model\")\n",
    "\n",
    "\tplot_actual[0][0].get_figure().savefig(SANITY_PATH / f'{actual.stem}_actual.png', facecolor='white')\n",
    "\tplot_predicted[0][0].get_figure().savefig(SANITY_PATH / f'{pred.stem}_predicted.png', facecolor='white')"
   ]
  },
  {
   "cell_type": "code",
   "execution_count": null,
   "metadata": {
    "collapsed": false,
    "lines_to_next_cell": 2
   },
   "outputs": [],
   "source": [
    "def plot_comparisons(data_files, model_outputs, save_path, extra_id: str = None):\n",
    "\tfor actual, pred in zip(data_files, model_outputs):\n",
    "\n",
    "\t\tdfa = pd.read_csv(actual)\n",
    "\t\tdfp = pd.read_csv(pred)\n",
    "\n",
    "\t\tname = actual.stem.split(\"_\")[0]\n",
    "\n",
    "\t\tfig, axs = pyplot.subplots(nrows=6, ncols=10, sharey=True, sharex=True, figsize=(16, 12))\n",
    "\t\tfig.suptitle(f\"{name}: actual (left) vs predicted (right)\", fontsize=16)\n",
    "\t\t# fig.set_size_inches(9, 9, forward=True)\n",
    "\t\tfor ax_arr in axs:\n",
    "\t\t\tfor ax in ax_arr:\n",
    "\t\t\t\t# ax.set_aspect('equal')\n",
    "\t\t\t\t# ax.set_adjustable('box')\n",
    "\t\t\t\tax.set_box_aspect(1)\n",
    "\t\tpyplot.subplots_adjust(left=0.025,\n",
    "\t\t                       right=1.0,\n",
    "\t\t                       bottom=0.1,\n",
    "\t\t                       top=0.9,\n",
    "\t\t                       wspace=0.5,\n",
    "\t\t                       hspace=0.5)\n",
    "\t\tpyplot.ylim(-3, 3)\n",
    "\t\tfig.tight_layout()\n",
    "\n",
    "\t\tdfa = dfa.iloc[:, :-4]\n",
    "\n",
    "\t\tdfa_p1 = dfa.iloc[:, :6]\n",
    "\t\tdfa_p2 = dfa.iloc[:, 6:12]\n",
    "\t\tdfa_p3 = dfa.iloc[:, 12:18]\n",
    "\t\tdfa_p4 = dfa.iloc[:, 18:24]\n",
    "\t\tdfa_p5 = dfa.iloc[:, 24:]\n",
    "\n",
    "\t\tdfp_p1 = dfp.iloc[:, :6]\n",
    "\t\tdfp_p2 = dfp.iloc[:, 6:12]\n",
    "\t\tdfp_p3 = dfp.iloc[:, 12:18]\n",
    "\t\tdfp_p4 = dfp.iloc[:, 18:24]\n",
    "\t\tdfp_p5 = dfp.iloc[:, 24:]\n",
    "\n",
    "\t\tdfa_p1.plot(ax=axs[:, 0], subplots=True)\n",
    "\t\tdfp_p1.plot(ax=axs[:, 1], subplots=True)\n",
    "\t\tdfa_p2.plot(ax=axs[:, 2], subplots=True)\n",
    "\t\tdfp_p2.plot(ax=axs[:, 3], subplots=True)\n",
    "\t\tdfa_p3.plot(ax=axs[:, 4], subplots=True)\n",
    "\t\tdfp_p3.plot(ax=axs[:, 5], subplots=True)\n",
    "\t\tdfa_p4.plot(ax=axs[:, 6], subplots=True)\n",
    "\t\tdfp_p4.plot(ax=axs[:, 7], subplots=True)\n",
    "\t\tdfa_p5.plot(ax=axs[:-2, 8], subplots=True)\n",
    "\t\tdfp_p5.plot(ax=axs[:-2, 9], subplots=True)\n",
    "\n",
    "\t\tspacer = \"_\" if extra_id else \"\"\n",
    "\n",
    "\t\tfig.savefig(save_path / f\"{name}_comparison{spacer}{extra_id}\", facecolor=\"white\")\n",
    "\n",
    "\n",
    "# plot_comparisons(data_files, model_outputs, SANITY_PATH)"
   ]
  },
  {
   "cell_type": "code",
   "execution_count": null,
   "metadata": {
    "collapsed": false
   },
   "outputs": [],
   "source": [
    "configs = [(\"bothoff\", False, 0), (\"onlydrop\", False, 0.5), (\"bothon\", True, 0.5), (\"onlybatch\", True, 0)]\n",
    "\n",
    "tmp_path = Path(\"TMP/\")\n",
    "\n",
    "names_and_ds = []\n",
    "\n",
    "for filename in DATA_PATH.glob(\"*_kinematic.csv\"):\n",
    "\tgait_name = filename.stem.split(\"_\")[0]\n",
    "\ttrain_ds, test_ds = create_datasets(filename)\n",
    "\tnames_and_ds.append((gait_name, train_ds, test_ds))\n",
    "\n",
    "min_loss = inf\n",
    "best_config = None\n",
    "\n",
    "for config, batch, drop in configs:\n",
    "\n",
    "\t# trains all gait types w this config\n",
    "\tavg_loss = train_csv_plot(names_and_ds, tmp_path, tmp_path, plot=False, dropout=drop, batch_norm=batch,\n",
    "\t                          extra_id=config)\n",
    "\n",
    "\tif min_loss > avg_loss:\n",
    "\t\tmin_loss = avg_loss\n",
    "\t\tbest_config = config\n",
    "\n",
    "\t# now we've got a set of models trained w these specific configs and a csv for each. need to compare vs regular graphs\n",
    "\tconfig_outputs = sorted([x for x in tmp_path.glob(f\"*_{config}.csv\") if x.is_file()])\n",
    "\n",
    "\tplot_comparisons(data_files, config_outputs, tmp_path, extra_id=config)  # plot to tmp folder"
   ]
  },
  {
   "cell_type": "code",
   "execution_count": 46,
   "metadata": {},
   "outputs": [
    {
     "name": "stdout",
     "output_type": "stream",
     "text": [
      "bothoff\n"
     ]
    }
   ],
   "source": [
    "print(best_config)"
   ]
  },
  {
   "cell_type": "code",
   "execution_count": 47,
   "metadata": {},
   "outputs": [
    {
     "name": "stdout",
     "output_type": "stream",
     "text": [
      "[jupytext] Reading gait_model.ipynb in format ipynb\n",
      "[jupytext] Updating notebook metadata with '{\"jupytext\": {\"formats\": \"ipynb,py:percent\"}}'\n",
      "[jupytext] Updating the timestamp of gait_model.py\n"
     ]
    }
   ],
   "source": [
    "!jupytext --set-formats ipynb,py:percent gait_model.ipynb"
   ]
  },
  {
   "cell_type": "code",
   "execution_count": null,
   "metadata": {},
   "outputs": [],
   "source": []
  }
 ],
 "metadata": {
  "interpreter": {
   "hash": "8667ff9c1a3fdb73137a6895aac8b28d03ed0e6b6a6c03fe473fbbb3abb38ca6"
  },
  "jupytext": {
   "formats": "ipynb,py:percent"
  },
  "kernelspec": {
   "display_name": "Python 3 (ipykernel)",
   "language": "python",
   "name": "python3"
  },
  "language_info": {
   "codemirror_mode": {
    "name": "ipython",
    "version": 3
   },
   "file_extension": ".py",
   "mimetype": "text/x-python",
   "name": "python",
   "nbconvert_exporter": "python",
   "pygments_lexer": "ipython3",
   "version": "3.7.12"
  },
  "toc": {
   "base_numbering": 1,
   "nav_menu": {},
   "number_sections": true,
   "sideBar": true,
   "skip_h1_title": true,
   "title_cell": "Table of Contents",
   "title_sidebar": "Contents",
   "toc_cell": true,
   "toc_position": {},
   "toc_section_display": true,
   "toc_window_display": false
  }
 },
 "nbformat": 4,
 "nbformat_minor": 2
}
