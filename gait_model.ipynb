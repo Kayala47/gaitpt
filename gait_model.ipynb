{
 "cells": [
  {
   "cell_type": "code",
   "execution_count": 9,
   "metadata": {},
   "outputs": [
    {
     "name": "stderr",
     "output_type": "stream",
     "text": [
      "ic| 'USING pytorch VERSION: ', torch.__version__: '1.6.0'\n"
     ]
    },
    {
     "data": {
      "text/plain": [
       "('USING pytorch VERSION: ', '1.6.0')"
      ]
     },
     "execution_count": 9,
     "metadata": {},
     "output_type": "execute_result"
    }
   ],
   "source": [
    "import sys\n",
    "import numpy as np\n",
    "from matplotlib import pyplot\n",
    "import torch\n",
    "import torch.nn as nn\n",
    "from torch import optim\n",
    "from torch.utils.data import DataLoader\n",
    "from torch.utils.data.dataset import Dataset\n",
    "from icecream import ic\n",
    "import pandas as pd\n",
    "\n",
    "import random\n",
    "\n",
    "ic(\"USING pytorch VERSION: \", torch.__version__)"
   ]
  },
  {
   "cell_type": "markdown",
   "metadata": {},
   "source": [
    "## Define a pytorch Dataset object to contain the training and testing data\n",
    "Pytorch handles data shuffling and batch loading, as long as the user provides a \"Dataset\" class. This class is just a wrapper for your data that casts the data into pytorch tensor format and returns slices of the data. In this case, our data is in numpy format, which conveniently pytorch has a method for converting to their native format.\n",
    "\n",
    "The init function takes the path to the csv and creates a dataset out of it. I actually have three different options here. The dataset could be composed such that x is the 'timestamp' of the movement,the previous set of angles, or a tuple of both."
   ]
  },
  {
   "cell_type": "code",
   "execution_count": 18,
   "metadata": {},
   "outputs": [],
   "source": [
    "class AngleDataset(Dataset):\n",
    "    def __init__(self, x, y):\n",
    "        x_dtype = torch.FloatTensor\n",
    "        y_dtype = torch.FloatTensor     # for MSE or L1 Loss\n",
    "\n",
    "        self.length = x.shape[0]\n",
    "\n",
    "        self.x_data = torch.from_numpy(x).type(x_dtype)\n",
    "        self.y_data = torch.from_numpy(y).type(y_dtype)\n",
    "\n",
    "    def __getitem__(self, index):\n",
    "        return self.x_data[index], self.y_data[index]\n",
    "\n",
    "    def __len__(self):\n",
    "        return self.length\n",
    "\n",
    "def create_datasets(csv_path: str, train_perc: float = 0.8):\n",
    "    df = pd.read_csv(csv_path)\n",
    "    x_dtype = torch.FloatTensor\n",
    "    y_dtype = torch.FloatTensor\n",
    "    length = len(df)\n",
    "\n",
    "    x_data = np.array([])\n",
    "    y_data = np.array([])\n",
    "\n",
    "    # if x = curr angles and y = next angles\n",
    "    for i in range(length):\n",
    "        if i < length - 1:\n",
    "            x = np.array(df.iloc[i])\n",
    "            y = np.array(df.iloc[i + 1])\n",
    "        else:\n",
    "            #since it loops anyway\n",
    "            x = np.array(df.iloc[i])\n",
    "            y = np.array(df.iloc[0])\n",
    "        \n",
    "        np.append(x_data, x)\n",
    "        np.append(y_data,y)\n",
    "\n",
    "    # if x = timestamp and y = angles\n",
    "    # self.x_data = np.array(range(0, len(self.df)))\n",
    "    # for i in range(self.length):\n",
    "    #     self.y_data.append(self.df.iloc[i])\n",
    "    \n",
    "    # if x = both timestamp and curr_angles\n",
    "    # timestamps = range(0, len(self.df))\n",
    "    # for i in range(self.length):\n",
    "    #     if i < self.length - 1:\n",
    "    #         x = np.array(self.df.iloc[i])\n",
    "    #         y = np.array(self.df.iloc[i + 1])\n",
    "    #     else:\n",
    "    #         #since it loops anyway\n",
    "    #         x = np.array(self.df.iloc[i])\n",
    "    #         y = np.array(self.df.iloc[0])\n",
    "        \n",
    "    #     self.x_data.append((timestamps[i], x))\n",
    "    #     self.y_data.append(y)\n",
    "\n",
    "    \n",
    "    np.random.shuffle(x_data)\n",
    "    np.random.shuffle(y_data)\n",
    "\n",
    "    last_train_idx = int(len(x_data) * train_perc)\n",
    "\n",
    "    train_x = x_data[:last_train_idx]\n",
    "    train_y = y_data[:last_train_idx]\n",
    "    test_x = x_data[last_train_idx:]\n",
    "    test_y = y_data[last_train_idx:]\n",
    "\n",
    "    return AngleDataset(x=train_x, y=train_y), AngleDataset(x=test_x, y=test_y)\n",
    "\n",
    "train_dataset, test_dataset = create_datasets('./walk.csv')\n",
    "\n",
    "        \n"
   ]
  },
  {
   "cell_type": "markdown",
   "metadata": {},
   "source": [
    "## Define training methods for the model\n",
    "These methods use an initialized model and training data to iteratively perform the forward and backward pass of optimization. Aside from some data reformatting that depends on the input, output, and loss function, these methods will always be the same for any shallow neural network."
   ]
  },
  {
   "cell_type": "code",
   "execution_count": 6,
   "metadata": {},
   "outputs": [],
   "source": [
    "def train_batch(model, x, y, optimizer, loss_fn):\n",
    "    # Run forward calculation\n",
    "    y_predict = model.forward(x)\n",
    "\n",
    "    # Compute loss.\n",
    "    loss = loss_fn(y_predict, y)\n",
    "\n",
    "    # Before the backward pass, use the optimizer object to zero all of the\n",
    "    # gradients for the variables it will update (which are the learnable weights\n",
    "    # of the model)\n",
    "    optimizer.zero_grad()\n",
    "\n",
    "    # Backward pass: compute gradient of the loss with respect to model\n",
    "    # parameters\n",
    "    loss.backward()\n",
    "\n",
    "    # Calling the step function on an Optimizer makes an update to its\n",
    "    # parameters\n",
    "    optimizer.step()\n",
    "\n",
    "    return loss.data.item()\n",
    "\n",
    "\n",
    "def train(model, loader, optimizer, loss_fn, epochs=5):\n",
    "    losses = list()\n",
    "\n",
    "    batch_index = 0\n",
    "    for e in range(epochs):\n",
    "        for x, y in loader:\n",
    "            loss = train_batch(model=model, x=x, y=y, optimizer=optimizer, loss_fn=loss_fn)\n",
    "            losses.append(loss)\n",
    "\n",
    "            batch_index += 1\n",
    "\n",
    "        if e % 50 == 0:\n",
    "          ic(\"Epoch: \", e+1)\n",
    "          ic(\"Batches: \", batch_index)\n",
    "\n",
    "    return losses\n"
   ]
  },
  {
   "cell_type": "markdown",
   "metadata": {},
   "source": [
    "## Define testing methods for the model\n",
    "These methods are like training, but we don't need to update the parameters of the model anymore because when we call the test() method, the model has already been trained. Instead, this method just calculates the predicted y values and returns them, AKA the forward pass.\n"
   ]
  },
  {
   "cell_type": "code",
   "execution_count": 7,
   "metadata": {},
   "outputs": [],
   "source": [
    "def test_batch(model, x, y):\n",
    "    # run forward calculation\n",
    "    y_predict = model.forward(x)\n",
    "\n",
    "    return y, y_predict\n",
    "\n",
    "\n",
    "def test(model, loader):\n",
    "    y_vectors = list()\n",
    "    y_predict_vectors = list()\n",
    "\n",
    "    batch_index = 0\n",
    "    for x, y in loader:\n",
    "        y, y_predict = test_batch(model=model, x=x, y=y)\n",
    "\n",
    "        y_vectors.append(y.data.numpy())\n",
    "        y_predict_vectors.append(y_predict.data.numpy())\n",
    "\n",
    "        batch_index += 1\n",
    "\n",
    "    y_predict_vector = np.concatenate(y_predict_vectors)\n",
    "\n",
    "    return y_predict_vector\n"
   ]
  },
  {
   "cell_type": "markdown",
   "metadata": {},
   "source": [
    "## Define plotting method for loss\n",
    "This is a plotting method for looking at the behavior of the loss over training iterations."
   ]
  },
  {
   "cell_type": "code",
   "execution_count": 8,
   "metadata": {},
   "outputs": [],
   "source": [
    "def plot_loss(losses, show=True):\n",
    "    fig = pyplot.gcf()\n",
    "    fig.set_size_inches(8,6)\n",
    "    ax = pyplot.axes()\n",
    "    ax.set_xlabel(\"Iteration\")\n",
    "    ax.set_ylabel(\"Loss\")\n",
    "    x_loss = list(range(len(losses)))\n",
    "    pyplot.plot(x_loss, losses)\n",
    "\n",
    "    if show:\n",
    "        pyplot.show()\n",
    "\n",
    "    pyplot.close()\n"
   ]
  },
  {
   "cell_type": "markdown",
   "metadata": {},
   "source": [
    "## Define Model Architecture\n",
    "- 12 inputs = 3 joint angles per leg, 4 legs\n",
    "- 12 outputs = *same as above*\n"
   ]
  },
  {
   "cell_type": "code",
   "execution_count": 19,
   "metadata": {},
   "outputs": [],
   "source": [
    "class PytorchBrain(torch.nn.Module):\n",
    "    _id = 0 # Global genome identifier\n",
    "    _num_inputs = 12\n",
    "    _num_outputs = 12\n",
    "\n",
    "    # @classmethod\n",
    "    # def __get_new_id(cls):\n",
    "    #     cls._id += 1\n",
    "    #     return cls._id\n",
    "\n",
    "    @classmethod\n",
    "    def get_num_outputs(cls):\n",
    "        return cls._num_outputs\n",
    "\n",
    "    def __init__(self):\n",
    "        super().__init__()\n",
    "        \n",
    "        # Inputs to hidden layer linear transformation\n",
    "        self.h1 = torch.nn.Linear(PytorchBrain._num_inputs, 12)\n",
    "        self.relu = torch.nn.ReLU() #output is same shape as input\n",
    "        self.batch_norm = torch.nn.BatchNorm1d(12)\n",
    "        self.h2 = torch.nn.Linear(12, 12)\n",
    "        self.h3 = torch.nn.Linear(12, 12)\n",
    "\n",
    "        # Output layer, 2 outputs to match to sine and cosine.\n",
    "        self.output = torch.nn.Linear(12, PytorchBrain._num_outputs)\n",
    "        \n",
    "        # Define sigmoid activation\n",
    "        self.sigmoid = torch.nn.Sigmoid()\n",
    "        self.tanh = torch.nn.Tanh()\n",
    "        \n",
    "    def forward(self, x):\n",
    "        # Pass the input tensor through each of our operations\n",
    "        x = self.h1(x)\n",
    "        x = self.relu(x)\n",
    "        x = self.batch_norm(x)\n",
    "        x = self.sigmoid(x)\n",
    "\n",
    "        x = self.h2(x)\n",
    "        x = self.relu(x)\n",
    "        x = self.batch_norm(x)\n",
    "        x = self.sigmoid(x)\n",
    "\n",
    "        x = self.h3(x)\n",
    "        x = self.relu(x)\n",
    "        x = self.batch_norm(x)\n",
    "        x = self.sigmoid(x)\n",
    "\n",
    "        x = self.tanh(x)\n",
    "        x = self.output(x)\n",
    "        \n",
    "        return x"
   ]
  },
  {
   "cell_type": "code",
   "execution_count": null,
   "metadata": {},
   "outputs": [],
   "source": []
  }
 ],
 "metadata": {
  "interpreter": {
   "hash": "9e96169c3d85a0b7abfdf8329564d63e23581ffb90e909b0554daf0689ed6e7b"
  },
  "kernelspec": {
   "display_name": "Python 3.7.9 ('datascience')",
   "language": "python",
   "name": "python3"
  },
  "language_info": {
   "codemirror_mode": {
    "name": "ipython",
    "version": 3
   },
   "file_extension": ".py",
   "mimetype": "text/x-python",
   "name": "python",
   "nbconvert_exporter": "python",
   "pygments_lexer": "ipython3",
   "version": "3.7.9"
  },
  "orig_nbformat": 4
 },
 "nbformat": 4,
 "nbformat_minor": 2
}
